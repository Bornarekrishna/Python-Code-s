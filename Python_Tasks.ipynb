{
  "nbformat": 4,
  "nbformat_minor": 0,
  "metadata": {
    "colab": {
      "provenance": []
    },
    "kernelspec": {
      "name": "python3",
      "display_name": "Python 3"
    },
    "language_info": {
      "name": "python"
    }
  },
  "cells": [
    {
      "cell_type": "markdown",
      "source": [
        "##Python Functions [m1]"
      ],
      "metadata": {
        "id": "9QwIT2au8bVs"
      }
    },
    {
      "cell_type": "markdown",
      "source": [
        "1) Create a python function that takes one argument as input and display in the format -\n",
        "You have submitted x as input [x being the input given by user]"
      ],
      "metadata": {
        "id": "yYW4k1vV8pZo"
      }
    },
    {
      "cell_type": "code",
      "execution_count": null,
      "metadata": {
        "id": "is1JlQFKCM0Q"
      },
      "outputs": [],
      "source": [
        "def argument(any_value):\n",
        "  print(\"You have submitted\",any_value,\"as  a Input\")"
      ]
    },
    {
      "cell_type": "code",
      "source": [
        "user_input = input(\"What do you want to submit: \")\n",
        "argument(user_input)"
      ],
      "metadata": {
        "colab": {
          "base_uri": "https://localhost:8080/"
        },
        "id": "ZRhs-HpYGOa7",
        "outputId": "6f450d52-9246-4dd1-f3ce-5356d4499988"
      },
      "execution_count": null,
      "outputs": [
        {
          "output_type": "stream",
          "name": "stdout",
          "text": [
            "What do you want to submit: krishna\n",
            "You have submitted krishna as  a Input\n"
          ]
        }
      ]
    },
    {
      "cell_type": "markdown",
      "source": [
        "2) Create a python function that takes one argument as input. The input argument must be\n",
        "an integer (ensure this using python). The function should display a square of input\n",
        "integer to the user."
      ],
      "metadata": {
        "id": "2Vtx8pHfGpoF"
      }
    },
    {
      "cell_type": "code",
      "source": [
        "def square_of(n):\n",
        "   return n ** 2"
      ],
      "metadata": {
        "id": "swY0Lft6GSts"
      },
      "execution_count": null,
      "outputs": []
    },
    {
      "cell_type": "code",
      "source": [
        "user_input = int(input(\"Which square do you want : \"))\n",
        "square_of(user_input)"
      ],
      "metadata": {
        "colab": {
          "base_uri": "https://localhost:8080/"
        },
        "id": "G6nN6J5BHfWS",
        "outputId": "f625bd96-d321-4015-a006-9b13a07d2013"
      },
      "execution_count": null,
      "outputs": [
        {
          "name": "stdout",
          "output_type": "stream",
          "text": [
            "Which square do you want : 15\n"
          ]
        },
        {
          "output_type": "execute_result",
          "data": {
            "text/plain": [
              "225"
            ]
          },
          "metadata": {},
          "execution_count": 5
        }
      ]
    },
    {
      "cell_type": "markdown",
      "source": [
        "3) Create a python function that takes one argument as input. The input argument must be\n",
        "an integer (ensure this using python). The function should display a square & cube of\n",
        "input integer to the user."
      ],
      "metadata": {
        "id": "ft4jQII6IBOX"
      }
    },
    {
      "cell_type": "code",
      "source": [
        "def square_and_cube(n):\n",
        "   return print(\"square :\",n ** 2 , \"cube :\",n ** 3)"
      ],
      "metadata": {
        "id": "LH7Cos1FH0lT"
      },
      "execution_count": null,
      "outputs": []
    },
    {
      "cell_type": "code",
      "source": [
        "user_input = int(input(\"Which square and cube do you want : \"))\n",
        "square_and_cube(user_input)"
      ],
      "metadata": {
        "colab": {
          "base_uri": "https://localhost:8080/"
        },
        "id": "75QRH8FGIlLz",
        "outputId": "ed7aa5b2-8c8d-4bae-aae7-ad3a9f669109"
      },
      "execution_count": null,
      "outputs": [
        {
          "output_type": "stream",
          "name": "stdout",
          "text": [
            "Which square and cube do you want : 13\n",
            "square : 169 cube : 2197\n"
          ]
        }
      ]
    },
    {
      "cell_type": "markdown",
      "source": [
        "4) Create a python function that takes two arguments as inputs. The input arguments must\n",
        "be integers (ensure this using python). The function should display a multiplication of\n",
        "input integers to the user."
      ],
      "metadata": {
        "id": "Mm3VIBxcJH6-"
      }
    },
    {
      "cell_type": "code",
      "source": [
        "def multiplication(n,m):\n",
        "  return print(n,\"X\",m,\"=\",n*m)"
      ],
      "metadata": {
        "id": "xFrvMNOyJLGu"
      },
      "execution_count": null,
      "outputs": []
    },
    {
      "cell_type": "code",
      "source": [
        "user_input_n = int(input(\"Enter your first number: \"))\n",
        "user_input_m = int(input(\"Enter your second number: \"))\n",
        "multiplication(user_input_n,user_input_m)"
      ],
      "metadata": {
        "colab": {
          "base_uri": "https://localhost:8080/"
        },
        "id": "OflAgrMcJjn_",
        "outputId": "285d25b0-465b-47a0-a713-c479d4067910"
      },
      "execution_count": null,
      "outputs": [
        {
          "output_type": "stream",
          "name": "stdout",
          "text": [
            "Enter your first number: 15\n",
            "Enter your second number: 20\n",
            "15 X 20 = 300\n"
          ]
        }
      ]
    },
    {
      "cell_type": "markdown",
      "source": [
        "##Loops [m2]"
      ],
      "metadata": {
        "id": "fsXPTlyLKYo1"
      }
    },
    {
      "cell_type": "markdown",
      "source": [
        "1) Create a python code that takes an input from the user. The code should display the data\n",
        "given input to the user in the format - You have submitted a int value [int would be\n",
        "replaced by the datatype]"
      ],
      "metadata": {
        "id": "Oaq3PhsuKk3f"
      }
    },
    {
      "cell_type": "code",
      "source": [
        "def datatype(value):\n",
        "  while True:\n",
        "    if type(value) == int:\n",
        "      print(\"You have submitted a int value\")\n",
        "    elif type(value) == float:\n",
        "      print(\"You have submitted a float value\")\n",
        "    else:\n",
        "      print(\"You have submitted a string value\")\n",
        "    break"
      ],
      "metadata": {
        "id": "DF5OAt8EKo1N"
      },
      "execution_count": null,
      "outputs": []
    },
    {
      "cell_type": "code",
      "source": [
        "user_input = eval(input(\"Enter your value here :\"))\n",
        "datatype(user_input)"
      ],
      "metadata": {
        "colab": {
          "base_uri": "https://localhost:8080/"
        },
        "id": "HLEsTcHTMJt0",
        "outputId": "009d5de3-521b-4ba0-cb8f-0028c3a7ec23"
      },
      "execution_count": null,
      "outputs": [
        {
          "output_type": "stream",
          "name": "stdout",
          "text": [
            "Enter your value here :51.1\n",
            "You have submitted a float value\n"
          ]
        }
      ]
    },
    {
      "cell_type": "markdown",
      "source": [
        "2) Create a python code that takes one integer input from the user. The program should\n",
        "display bada number if the input is greater than 20. Otherwise the program should display\n",
        "chota number."
      ],
      "metadata": {
        "id": "Bk5IiLySNk4c"
      }
    },
    {
      "cell_type": "code",
      "source": [
        "def num_check(n):\n",
        "  if n > 20:\n",
        "    print(\"This is Bada number\")\n",
        "  else:\n",
        "    print(\"This is Chota number\")"
      ],
      "metadata": {
        "id": "PZkPZLaZNbMb"
      },
      "execution_count": null,
      "outputs": []
    },
    {
      "cell_type": "code",
      "source": [
        "user_input = int(input(\"Enter your number :- \"))\n",
        "num_check(user_input)"
      ],
      "metadata": {
        "colab": {
          "base_uri": "https://localhost:8080/"
        },
        "id": "eK_7Q_9_Oeuo",
        "outputId": "a93d120c-c686-462a-e44d-f03e656a8c38"
      },
      "execution_count": null,
      "outputs": [
        {
          "output_type": "stream",
          "name": "stdout",
          "text": [
            "Enter your number :- 19\n",
            "This is Chota number\n"
          ]
        }
      ]
    },
    {
      "cell_type": "markdown",
      "source": [
        "Tasks Complete 👍"
      ],
      "metadata": {
        "id": "Rqc0J6c6PRRd"
      }
    }
  ]
}